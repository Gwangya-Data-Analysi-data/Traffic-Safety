{
 "cells": [
  {
   "cell_type": "code",
   "execution_count": 2,
   "id": "951479de",
   "metadata": {},
   "outputs": [],
   "source": [
    "import os\n",
    "import pandas as pd\n",
    "import matplotlib.pyplot as plt\n",
    "import warnings\n",
    "import numpy as np\n",
    "from scipy.interpolate import make_interp_spline\n",
    "from dotenv import load_dotenv\n",
    "from sklearn.preprocessing import MinMaxScaler\n",
    "\n",
    "# 한글 폰트 설정\n",
    "plt.rcParams['font.family'] = 'Malgun Gothic'\n",
    "plt.rcParams['axes.unicode_minus'] = False\n",
    "warnings.filterwarnings(\"ignore\", message=\"Workbook contains no default style, apply openpyxl's default\")\n",
    "\n",
    "# 환경 변수 로드\n",
    "load_dotenv()\n",
    "file_path_traffic_2023 = os.getenv('FiLE_PATH_traffic_2023')\n",
    "file_path_traffic_2022 = os.getenv('FiLE_PATH_traffic_2022')\n",
    "file_path_traffic_2021 = os.getenv(\"FiLE_PATH_traffic_2021\")\n",
    "file_path_traffic_2020 = os.getenv('FiLE_PATH_traffic_2020')\n",
    "file_image_traffic = os.getenv('File_image_traffic_Car')\n",
    "\n",
    "# 파일 읽기\n",
    "df_traffic_2023 = pd.read_excel(file_path_traffic_2023, engine='openpyxl')\n",
    "df_traffic_2022 = pd.read_excel(file_path_traffic_2022, engine='openpyxl')\n",
    "df_traffic_2021 = pd.read_excel(file_path_traffic_2021, engine='openpyxl')\n",
    "df_traffic_2020 = pd.read_excel(file_path_traffic_2020, engine='openpyxl')\n",
    "\n",
    "\n"
   ]
  },
  {
   "cell_type": "code",
   "execution_count": 3,
   "id": "1ba9d83a",
   "metadata": {},
   "outputs": [],
   "source": [
    "\n",
    "# 2번째 열부터 끝까지의 DataFrame 추출 (각 데이터셋)\n",
    "df_subset1 = df_traffic_2023.iloc[:, [1, 7]]\n",
    "df_subset2 = df_traffic_2022.iloc[:, [1, 7]]\n",
    "df_subset3 = df_traffic_2021.iloc[:, [1, 7]]\n",
    "df_subset4 = df_traffic_2020.iloc[:, [1, 6]]\n",
    "\n",
    "# 각 DataFrame의 전체 합 계산 (모든 행과 모든 열의 합산)\n",
    "total_2023 = df_subset1.sum().sum()\n",
    "total_2022 = df_subset2.sum().sum()\n",
    "total_2021 = df_subset3.sum().sum()\n",
    "total_2020 = df_subset4.sum().sum()\n",
    "\n",
    "\n",
    "year_data = {\n",
    "    '2020': total_2020,\n",
    "    '2021': total_2021,\n",
    "    '2022': total_2022,\n",
    "    '2023': total_2023\n",
    "}"
   ]
  },
  {
   "cell_type": "code",
   "execution_count": 4,
   "id": "126565d9",
   "metadata": {},
   "outputs": [
    {
     "data": {
      "image/png": "[encoded data removed]",
      "text/plain": [
       "<Figure size 800x600 with 1 Axes>"
      ]
     },
     "metadata": {},
     "output_type": "display_data"
    }
   ],
   "source": [
    "# 딕셔너리를 데이터프레임으로 변환 (시각화를 위한 정리)\n",
    "df_year = pd.DataFrame(list(year_data.items()), columns=['년도', '차량수'])\n",
    "\n",
    "# 한글 폰트 설정 (환경에 따라 폰트 설정 필요)\n",
    "plt.rcParams['font.family'] = 'Malgun Gothic'\n",
    "plt.rcParams['axes.unicode_minus'] = False\n",
    "\n",
    "# 가로 막대 그래프 그리기\n",
    "plt.figure(figsize=(8,6))\n",
    "plt.barh(df_year['년도'], df_year['차량수'])\n",
    "plt.xlabel(\"차량수\")\n",
    "plt.ylabel(\"년도\")\n",
    "plt.title(\"년도별 차량수\")\n",
    "# plt.show()\n",
    "\n",
    "plt.savefig(file_image_traffic, format=\"png\", dpi=300)"
   ]
  }
 ],
 "metadata": {
  "kernelspec": {
   "display_name": "base",
   "language": "python",
   "name": "python3"
  },
  "language_info": {
   "codemirror_mode": {
    "name": "ipython",
    "version": 3
   },
   "file_extension": ".py",
   "mimetype": "text/x-python",
   "name": "python",
   "nbconvert_exporter": "python",
   "pygments_lexer": "ipython3",
   "version": "3.12.7"
  }
 },
 "nbformat": 4,
 "nbformat_minor": 5
}
